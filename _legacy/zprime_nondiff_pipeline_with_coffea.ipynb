{
 "cells": [
  {
   "cell_type": "code",
   "execution_count": null,
   "metadata": {},
   "outputs": [
    {
     "name": "stderr",
     "output_type": "stream",
     "text": [
      "/Users/moaly/miniforge3/envs/zprime_diff_coffea/lib/python3.11/site-packages/coffea/nanoevents/schemas/fcc.py:5: FutureWarning: In version 2025.1.0 (target date: 2024-12-31 11:59:59-06:00), this will be an error.\n",
      "To raise these warnings as errors (and get stack traces to find out where they're called), run\n",
      "    import warnings\n",
      "    warnings.filterwarnings(\"error\", module=\"coffea.*\")\n",
      "after the first `import coffea` or use `@pytest.mark.filterwarnings(\"error:::coffea.*\")` in pytest.\n",
      "Issue: coffea.nanoevents.methods.vector will be removed and replaced with scikit-hep vector. Nanoevents schemas internal to coffea will be migrated. Otherwise please consider using that package!.\n",
      "  from coffea.nanoevents.methods import vector\n"
     ]
    }
   ],
   "source": [
    "# scikit-hep\n",
    "from coffea.nanoevents import NanoAODSchema\n",
    "from coffea.dataset_tools import (\n",
    "    apply_to_fileset,\n",
    "    max_chunks,\n",
    "    preprocess,\n",
    ")\n",
    "import dask\n",
    "\n",
    "# this analysis\n",
    "import utils\n",
    "from utils.processor import ZprimeAnalysis"
   ]
  },
  {
   "cell_type": "markdown",
   "metadata": {},
   "source": [
    "### Load data from NTuples without materialising in memory\n",
    "\n",
    "!! Install `xrootd` via `conda-forge`"
   ]
  },
  {
   "cell_type": "code",
   "execution_count": 2,
   "metadata": {},
   "outputs": [
    {
     "name": "stdout",
     "output_type": "stream",
     "text": [
      "{'signal__nominal': {'files': {'root://eospublic.cern.ch//eos/opendata/cms/mc/RunIISummer20UL16NanoAODv9/ZprimeToTT_M2000_W20_TuneCP2_PSweights_13TeV-madgraph-pythiaMLM-pythia8/NANOAODSIM/106X_mcRun2_asymptotic_v17-v1/280000/45046F71-EB72-974D-BF4A-56A9C1B44524.root': 'Events', 'root://eospublic.cern.ch//eos/opendata/cms/mc/RunIISummer20UL16NanoAODv9/ZprimeToTT_M2000_W20_TuneCP2_PSweights_13TeV-madgraph-pythiaMLM-pythia8/NANOAODSIM/106X_mcRun2_asymptotic_v17-v1/270000/22BAB5D2-9E3F-E440-AB30-AE6DBFDF6C83.root': 'Events'}, 'metadata': {'process': 'signal', 'variation': 'nominal', 'nevts': 523001, 'xsec': 1.0}}, 'ttbar_semilep__nominal': {'files': {'root://eospublic.cern.ch//eos/opendata/cms/mc/RunIISummer20UL16NanoAODv9/TTToSemiLeptonic_TuneCP5_13TeV-powheg-pythia8/NANOAODSIM/106X_mcRun2_asymptotic_v17-v1/280000/0605BFCA-C65A-CA4C-8A6A-9148DC1B7B9A.root': 'Events', 'root://eospublic.cern.ch//eos/opendata/cms/mc/RunIISummer20UL16NanoAODv9/TTToSemiLeptonic_TuneCP5_13TeV-powheg-pythia8/NANOAODSIM/106X_mcRun2_asymptotic_v17-v1/280000/0C0F16E0-3063-F94A-8089-6964A9A0E22E.root': 'Events'}, 'metadata': {'process': 'ttbar_semilep', 'variation': 'nominal', 'nevts': 2688000, 'xsec': 364.31088}}, 'ttbar_had__nominal': {'files': {'root://eospublic.cern.ch//eos/opendata/cms/mc/RunIISummer20UL16NanoAODv9/TTToHadronic_TuneCP5_13TeV-powheg-pythia8/NANOAODSIM/106X_mcRun2_asymptotic_v17-v1/280000/0415B772-3CC8-A64E-9410-E622E18AF2E5.root': 'Events', 'root://eospublic.cern.ch//eos/opendata/cms/mc/RunIISummer20UL16NanoAODv9/TTToHadronic_TuneCP5_13TeV-powheg-pythia8/NANOAODSIM/106X_mcRun2_asymptotic_v17-v1/280000/05329733-CCC3-7B43-A9CE-1B9035E25908.root': 'Events'}, 'metadata': {'process': 'ttbar_had', 'variation': 'nominal', 'nevts': 938000, 'xsec': 380.11432}}, 'ttbar_lep__nominal': {'files': {'root://eospublic.cern.ch//eos/opendata/cms/mc/RunIISummer20UL16NanoAODv9/TTTo2L2Nu_TuneCP5_13TeV-powheg-pythia8/NANOAODSIM/106X_mcRun2_asymptotic_v17-v1/280000/6293BAC8-2AB6-4A4A-BFEA-83E328B9C44F.root': 'Events', 'root://eospublic.cern.ch//eos/opendata/cms/mc/RunIISummer20UL16NanoAODv9/TTTo2L2Nu_TuneCP5_13TeV-powheg-pythia8/NANOAODSIM/106X_mcRun2_asymptotic_v17-v1/280000/826395F0-39C8-BF45-AA23-8C58A6C632B2.root': 'Events'}, 'metadata': {'process': 'ttbar_lep', 'variation': 'nominal', 'nevts': 1312000, 'xsec': 87.3348}}, 'wjets__nominal': {'files': {'root://eospublic.cern.ch//eos/opendata/cms/mc/RunIISummer20UL16NanoAODv9/WJetsToLNu_TuneCP5_13TeV-madgraphMLM-pythia8/NANOAODSIM/106X_mcRun2_asymptotic_v17-v1/280000/06169F6B-C5AE-1646-87E4-F6613C6046C7.root': 'Events', 'root://eospublic.cern.ch//eos/opendata/cms/mc/RunIISummer20UL16NanoAODv9/WJetsToLNu_TuneCP5_13TeV-madgraphMLM-pythia8/NANOAODSIM/106X_mcRun2_asymptotic_v17-v1/280000/08EE3CEE-32E4-7E41-8983-1125F195CFCB.root': 'Events'}, 'metadata': {'process': 'wjets', 'variation': 'nominal', 'nevts': 3681765, 'xsec': 61526.7}}, 'data__nominal': {'files': {'root://eospublic.cern.ch//eos/opendata/cms/Run2016H/SingleMuon/NANOAOD/UL2016_MiniAODv2_NanoAODv9-v1/280000/40EA32B0-1284-7246-83A3-A703D908F9FC.root': 'Events', 'root://eospublic.cern.ch//eos/opendata/cms/Run2016H/SingleMuon/NANOAOD/UL2016_MiniAODv2_NanoAODv9-v1/280000/579013D1-626D-D943-A8B0-A1A558C54F33.root': 'Events'}, 'metadata': {'process': 'data', 'variation': 'nominal', 'nevts': 3573382, 'xsec': 1.0}}}\n"
     ]
    }
   ],
   "source": [
    "N_FILES_MAX_PER_SAMPLE = 2\n",
    "fileset = utils.input_files.construct_fileset(\n",
    "    N_FILES_MAX_PER_SAMPLE,\n",
    ")\n",
    "print(fileset)"
   ]
  },
  {
   "cell_type": "code",
   "execution_count": 3,
   "metadata": {},
   "outputs": [
    {
     "name": "stdout",
     "output_type": "stream",
     "text": [
      "Processing signal with variation nominal\n",
      "Fields: ['SV', 'GenPart', 'Flag', 'DeepMETResolutionTune', 'LHEReweightingWeight', 'L1simulation', 'GenJetAK8', 'LHEPdfWeight', 'fixedGridRhoFastjetCentral', 'LHEWeight', 'SoftActivityJetHT5', 'SoftActivityJetHT', 'HLTriggerFirstPath', 'SoftActivityJetNjets2', 'Tau', 'FsrPhoton', 'genWeight', 'GenVtx', 'RawMET', 'LowPtElectron', 'HLTriggerFinalPath', 'DeepMETResponseTune', 'boostedTau', 'GenMET', 'HLT', 'GenVisTau', 'SoftActivityJet', 'btagWeight', 'Pileup', 'fixedGridRhoFastjetCentralChargedPileUp', 'TkMET', 'SoftActivityJetNjets10', 'L1', 'SubGenJetAK8', 'HTXS', 'PSWeight', 'Electron', 'LHEScaleWeight', 'MET', 'GenDressedLepton', 'OtherPV', 'PV', 'Generator', 'Jet', 'SoftActivityJetNjets5', 'GenIsolatedPhoton', 'RawPuppiMET', 'fixedGridRhoFastjetCentralNeutral', 'luminosityBlock', 'PuppiMET', 'L1Reco', 'FatJet', 'CaloMET', 'GenJet', 'SoftActivityJetHT2', 'Muon', 'CorrT1METJet', 'genTtbarId', 'SoftActivityJetHT10', 'SubJet', 'LHEPart', 'IsoTrack', 'event', 'TrigObj', 'Photon', 'fixedGridRhoFastjetAll', 'fixedGridRhoFastjetCentralCalo', 'LHE', 'run', 'ChsMET', 'L1PreFiringWeight']\n",
      "['phi', 'phiJERDown', 'phiJERUp', 'phiJESDown', 'phiJESUp', 'phiUnclusteredDown', 'phiUnclusteredUp', 'pt', 'ptJERDown', 'ptJERUp', 'ptJESDown', 'ptJESUp', 'ptUnclusteredDown', 'ptUnclusteredUp', 'sumEt']\n",
      "Filling histogram:  jet_pt_scale_up signal\n",
      "['phi', 'phiJERDown', 'phiJERUp', 'phiJESDown', 'phiJESUp', 'phiUnclusteredDown', 'phiUnclusteredUp', 'pt', 'ptJERDown', 'ptJERUp', 'ptJESDown', 'ptJESUp', 'ptUnclusteredDown', 'ptUnclusteredUp', 'sumEt']\n",
      "Filling histogram:  nominal signal\n",
      "['phi', 'phiJERDown', 'phiJERUp', 'phiJESDown', 'phiJESUp', 'phiUnclusteredDown', 'phiUnclusteredUp', 'pt', 'ptJERDown', 'ptJERUp', 'ptJESDown', 'ptJESUp', 'ptUnclusteredDown', 'ptUnclusteredUp', 'sumEt']\n",
      "Filling histogram:  nominal signal\n",
      "Processing ttbar_semilep with variation nominal\n",
      "Fields: ['SV', 'GenPart', 'Flag', 'DeepMETResolutionTune', 'LHEReweightingWeight', 'L1simulation', 'GenJetAK8', 'LHEPdfWeight', 'fixedGridRhoFastjetCentral', 'LHEWeight', 'SoftActivityJetHT5', 'SoftActivityJetHT', 'HLTriggerFirstPath', 'SoftActivityJetNjets2', 'Tau', 'FsrPhoton', 'genWeight', 'GenVtx', 'RawMET', 'LowPtElectron', 'HLTriggerFinalPath', 'DeepMETResponseTune', 'boostedTau', 'GenMET', 'HLT', 'GenVisTau', 'SoftActivityJet', 'btagWeight', 'Pileup', 'fixedGridRhoFastjetCentralChargedPileUp', 'TkMET', 'SoftActivityJetNjets10', 'L1', 'SubGenJetAK8', 'HTXS', 'PSWeight', 'Electron', 'LHEScaleWeight', 'MET', 'GenDressedLepton', 'OtherPV', 'PV', 'Generator', 'Jet', 'SoftActivityJetNjets5', 'GenIsolatedPhoton', 'RawPuppiMET', 'fixedGridRhoFastjetCentralNeutral', 'luminosityBlock', 'PuppiMET', 'L1Reco', 'FatJet', 'CaloMET', 'GenJet', 'SoftActivityJetHT2', 'Muon', 'CorrT1METJet', 'genTtbarId', 'SoftActivityJetHT10', 'SubJet', 'LHEPart', 'IsoTrack', 'event', 'TrigObj', 'Photon', 'fixedGridRhoFastjetAll', 'fixedGridRhoFastjetCentralCalo', 'LHE', 'run', 'ChsMET', 'L1PreFiringWeight']\n",
      "['phi', 'phiJERDown', 'phiJERUp', 'phiJESDown', 'phiJESUp', 'phiUnclusteredDown', 'phiUnclusteredUp', 'pt', 'ptJERDown', 'ptJERUp', 'ptJESDown', 'ptJESUp', 'ptUnclusteredDown', 'ptUnclusteredUp', 'sumEt']\n",
      "Filling histogram:  jet_pt_scale_up ttbar_semilep\n",
      "['phi', 'phiJERDown', 'phiJERUp', 'phiJESDown', 'phiJESUp', 'phiUnclusteredDown', 'phiUnclusteredUp', 'pt', 'ptJERDown', 'ptJERUp', 'ptJESDown', 'ptJESUp', 'ptUnclusteredDown', 'ptUnclusteredUp', 'sumEt']\n",
      "Filling histogram:  nominal ttbar_semilep\n",
      "['phi', 'phiJERDown', 'phiJERUp', 'phiJESDown', 'phiJESUp', 'phiUnclusteredDown', 'phiUnclusteredUp', 'pt', 'ptJERDown', 'ptJERUp', 'ptJESDown', 'ptJESUp', 'ptUnclusteredDown', 'ptUnclusteredUp', 'sumEt']\n",
      "Filling histogram:  nominal ttbar_semilep\n",
      "Processing ttbar_had with variation nominal\n",
      "Fields: ['SV', 'GenPart', 'Flag', 'DeepMETResolutionTune', 'LHEReweightingWeight', 'L1simulation', 'GenJetAK8', 'LHEPdfWeight', 'fixedGridRhoFastjetCentral', 'LHEWeight', 'SoftActivityJetHT5', 'SoftActivityJetHT', 'HLTriggerFirstPath', 'SoftActivityJetNjets2', 'Tau', 'FsrPhoton', 'genWeight', 'GenVtx', 'RawMET', 'LowPtElectron', 'HLTriggerFinalPath', 'DeepMETResponseTune', 'boostedTau', 'GenMET', 'HLT', 'GenVisTau', 'SoftActivityJet', 'btagWeight', 'Pileup', 'fixedGridRhoFastjetCentralChargedPileUp', 'TkMET', 'SoftActivityJetNjets10', 'L1', 'SubGenJetAK8', 'HTXS', 'PSWeight', 'Electron', 'LHEScaleWeight', 'MET', 'GenDressedLepton', 'OtherPV', 'PV', 'Generator', 'Jet', 'SoftActivityJetNjets5', 'GenIsolatedPhoton', 'RawPuppiMET', 'fixedGridRhoFastjetCentralNeutral', 'luminosityBlock', 'PuppiMET', 'L1Reco', 'FatJet', 'CaloMET', 'GenJet', 'SoftActivityJetHT2', 'Muon', 'CorrT1METJet', 'genTtbarId', 'SoftActivityJetHT10', 'SubJet', 'LHEPart', 'IsoTrack', 'event', 'TrigObj', 'Photon', 'fixedGridRhoFastjetAll', 'fixedGridRhoFastjetCentralCalo', 'LHE', 'run', 'ChsMET', 'L1PreFiringWeight']\n",
      "['phi', 'phiJERDown', 'phiJERUp', 'phiJESDown', 'phiJESUp', 'phiUnclusteredDown', 'phiUnclusteredUp', 'pt', 'ptJERDown', 'ptJERUp', 'ptJESDown', 'ptJESUp', 'ptUnclusteredDown', 'ptUnclusteredUp', 'sumEt']\n",
      "Filling histogram:  jet_pt_scale_up ttbar_had\n",
      "['phi', 'phiJERDown', 'phiJERUp', 'phiJESDown', 'phiJESUp', 'phiUnclusteredDown', 'phiUnclusteredUp', 'pt', 'ptJERDown', 'ptJERUp', 'ptJESDown', 'ptJESUp', 'ptUnclusteredDown', 'ptUnclusteredUp', 'sumEt']\n",
      "Filling histogram:  nominal ttbar_had\n",
      "['phi', 'phiJERDown', 'phiJERUp', 'phiJESDown', 'phiJESUp', 'phiUnclusteredDown', 'phiUnclusteredUp', 'pt', 'ptJERDown', 'ptJERUp', 'ptJESDown', 'ptJESUp', 'ptUnclusteredDown', 'ptUnclusteredUp', 'sumEt']\n",
      "Filling histogram:  nominal ttbar_had\n",
      "Processing ttbar_lep with variation nominal\n",
      "Fields: ['SV', 'GenPart', 'Flag', 'DeepMETResolutionTune', 'LHEReweightingWeight', 'L1simulation', 'GenJetAK8', 'LHEPdfWeight', 'fixedGridRhoFastjetCentral', 'LHEWeight', 'SoftActivityJetHT5', 'SoftActivityJetHT', 'HLTriggerFirstPath', 'SoftActivityJetNjets2', 'Tau', 'FsrPhoton', 'genWeight', 'GenVtx', 'RawMET', 'LowPtElectron', 'HLTriggerFinalPath', 'DeepMETResponseTune', 'boostedTau', 'GenMET', 'HLT', 'GenVisTau', 'SoftActivityJet', 'btagWeight', 'Pileup', 'fixedGridRhoFastjetCentralChargedPileUp', 'TkMET', 'SoftActivityJetNjets10', 'L1', 'SubGenJetAK8', 'HTXS', 'PSWeight', 'Electron', 'LHEScaleWeight', 'MET', 'GenDressedLepton', 'OtherPV', 'PV', 'Generator', 'Jet', 'SoftActivityJetNjets5', 'GenIsolatedPhoton', 'RawPuppiMET', 'fixedGridRhoFastjetCentralNeutral', 'luminosityBlock', 'PuppiMET', 'L1Reco', 'FatJet', 'CaloMET', 'GenJet', 'SoftActivityJetHT2', 'Muon', 'CorrT1METJet', 'genTtbarId', 'SoftActivityJetHT10', 'SubJet', 'LHEPart', 'IsoTrack', 'event', 'TrigObj', 'Photon', 'fixedGridRhoFastjetAll', 'fixedGridRhoFastjetCentralCalo', 'LHE', 'run', 'ChsMET', 'L1PreFiringWeight']\n",
      "['phi', 'phiJERDown', 'phiJERUp', 'phiJESDown', 'phiJESUp', 'phiUnclusteredDown', 'phiUnclusteredUp', 'pt', 'ptJERDown', 'ptJERUp', 'ptJESDown', 'ptJESUp', 'ptUnclusteredDown', 'ptUnclusteredUp', 'sumEt']\n",
      "Filling histogram:  jet_pt_scale_up ttbar_lep\n",
      "['phi', 'phiJERDown', 'phiJERUp', 'phiJESDown', 'phiJESUp', 'phiUnclusteredDown', 'phiUnclusteredUp', 'pt', 'ptJERDown', 'ptJERUp', 'ptJESDown', 'ptJESUp', 'ptUnclusteredDown', 'ptUnclusteredUp', 'sumEt']\n",
      "Filling histogram:  nominal ttbar_lep\n",
      "['phi', 'phiJERDown', 'phiJERUp', 'phiJESDown', 'phiJESUp', 'phiUnclusteredDown', 'phiUnclusteredUp', 'pt', 'ptJERDown', 'ptJERUp', 'ptJESDown', 'ptJESUp', 'ptUnclusteredDown', 'ptUnclusteredUp', 'sumEt']\n",
      "Filling histogram:  nominal ttbar_lep\n",
      "Processing wjets with variation nominal\n",
      "Fields: ['SV', 'GenPart', 'Flag', 'DeepMETResolutionTune', 'LHEReweightingWeight', 'L1simulation', 'GenJetAK8', 'LHEPdfWeight', 'fixedGridRhoFastjetCentral', 'LHEWeight', 'SoftActivityJetHT5', 'SoftActivityJetHT', 'HLTriggerFirstPath', 'SoftActivityJetNjets2', 'Tau', 'FsrPhoton', 'genWeight', 'GenVtx', 'RawMET', 'LowPtElectron', 'HLTriggerFinalPath', 'DeepMETResponseTune', 'boostedTau', 'GenMET', 'HLT', 'GenVisTau', 'SoftActivityJet', 'btagWeight', 'Pileup', 'fixedGridRhoFastjetCentralChargedPileUp', 'TkMET', 'SoftActivityJetNjets10', 'L1', 'SubGenJetAK8', 'HTXS', 'PSWeight', 'Electron', 'LHEScaleWeight', 'MET', 'GenDressedLepton', 'OtherPV', 'PV', 'Generator', 'Jet', 'SoftActivityJetNjets5', 'GenIsolatedPhoton', 'RawPuppiMET', 'fixedGridRhoFastjetCentralNeutral', 'luminosityBlock', 'PuppiMET', 'L1Reco', 'FatJet', 'CaloMET', 'GenJet', 'SoftActivityJetHT2', 'Muon', 'CorrT1METJet', 'genTtbarId', 'SoftActivityJetHT10', 'SubJet', 'LHEPart', 'IsoTrack', 'event', 'TrigObj', 'Photon', 'fixedGridRhoFastjetAll', 'fixedGridRhoFastjetCentralCalo', 'LHE', 'run', 'ChsMET', 'L1PreFiringWeight']\n",
      "['phi', 'phiJERDown', 'phiJERUp', 'phiJESDown', 'phiJESUp', 'phiUnclusteredDown', 'phiUnclusteredUp', 'pt', 'ptJERDown', 'ptJERUp', 'ptJESDown', 'ptJESUp', 'ptUnclusteredDown', 'ptUnclusteredUp', 'sumEt']\n",
      "Filling histogram:  jet_pt_scale_up wjets\n",
      "['phi', 'phiJERDown', 'phiJERUp', 'phiJESDown', 'phiJESUp', 'phiUnclusteredDown', 'phiUnclusteredUp', 'pt', 'ptJERDown', 'ptJERUp', 'ptJESDown', 'ptJESUp', 'ptUnclusteredDown', 'ptUnclusteredUp', 'sumEt']\n",
      "Filling histogram:  nominal wjets\n",
      "['phi', 'phiJERDown', 'phiJERUp', 'phiJESDown', 'phiJESUp', 'phiUnclusteredDown', 'phiUnclusteredUp', 'pt', 'ptJERDown', 'ptJERUp', 'ptJESDown', 'ptJESUp', 'ptUnclusteredDown', 'ptUnclusteredUp', 'sumEt']\n",
      "Filling histogram:  nominal wjets\n",
      "Processing data with variation nominal\n",
      "Fields: ['SV', 'FsrPhoton', 'PuppiMET', 'L1Reco', 'SoftActivityJetNjets10', 'FatJet', 'L1', 'RawMET', 'LowPtElectron', 'HLTriggerFinalPath', 'CaloMET', 'DeepMETResponseTune', 'Flag', 'DeepMETResolutionTune', 'SoftActivityJetHT2', 'Muon', 'CorrT1METJet', 'boostedTau', 'Electron', 'MET', 'HLT', 'SoftActivityJetHT10', 'fixedGridRhoFastjetCentralNeutral', 'SubJet', 'fixedGridRhoFastjetCentral', 'OtherPV', 'SoftActivityJetHT5', 'PV', 'Jet', 'IsoTrack', 'SoftActivityJet', 'event', 'SoftActivityJetHT', 'Photon', 'SoftActivityJetNjets5', 'TrigObj', 'fixedGridRhoFastjetAll', 'Proton', 'fixedGridRhoFastjetCentralCalo', 'HLTriggerFirstPath', 'SoftActivityJetNjets2', 'RawPuppiMET', 'fixedGridRhoFastjetCentralChargedPileUp', 'run', 'PPSLocalTrack', 'ChsMET', 'L1PreFiringWeight', 'Tau', 'TkMET', 'luminosityBlock']\n",
      "['phi', 'phiJERDown', 'phiJERUp', 'phiJESDown', 'phiJESUp', 'phiUnclusteredDown', 'phiUnclusteredUp', 'pt', 'ptJERDown', 'ptJERUp', 'ptJESDown', 'ptJESUp', 'ptUnclusteredDown', 'ptUnclusteredUp', 'sumEt']\n",
      "Filling histogram:  jet_pt_scale_up data\n",
      "['phi', 'phiJERDown', 'phiJERUp', 'phiJESDown', 'phiJESUp', 'phiUnclusteredDown', 'phiUnclusteredUp', 'pt', 'ptJERDown', 'ptJERUp', 'ptJESDown', 'ptJESUp', 'ptUnclusteredDown', 'ptUnclusteredUp', 'sumEt']\n",
      "Filling histogram:  jet_pt_scale_down data\n",
      "['phi', 'phiJERDown', 'phiJERUp', 'phiJESDown', 'phiJESUp', 'phiUnclusteredDown', 'phiUnclusteredUp', 'pt', 'ptJERDown', 'ptJERUp', 'ptJESDown', 'ptJESUp', 'ptUnclusteredDown', 'ptUnclusteredUp', 'sumEt']\n",
      "Filling histogram:  nominal data\n",
      "['phi', 'phiJERDown', 'phiJERUp', 'phiJESDown', 'phiJESUp', 'phiUnclusteredDown', 'phiUnclusteredUp', 'pt', 'ptJERDown', 'ptJERUp', 'ptJESDown', 'ptJESUp', 'ptUnclusteredDown', 'ptUnclusteredUp', 'sumEt']\n",
      "Filling histogram:  nominal data\n"
     ]
    }
   ],
   "source": [
    "\n",
    "NanoAODSchema.warn_missing_crossrefs = False # silences warnings about branches we will not use here\n",
    "#executor = processor.FuturesExecutor(workers=4)\n",
    "\n",
    "dataset_runnable, dataset_updated = preprocess(\n",
    "    fileset,\n",
    "    align_clusters=False,\n",
    "    step_size=100_000,\n",
    "    files_per_batch=1,\n",
    "    skip_bad_files=True,\n",
    "    save_form=False,\n",
    ")\n",
    "to_compute = apply_to_fileset(\n",
    "                ZprimeAnalysis(),\n",
    "                max_chunks(dataset_runnable, 300),\n",
    "                schemaclass=NanoAODSchema,\n",
    "            )\n",
    "(out,) = dask.compute(to_compute)"
   ]
  },
  {
   "cell_type": "code",
   "execution_count": 5,
   "metadata": {},
   "outputs": [
    {
     "name": "stdout",
     "output_type": "stream",
     "text": [
      "dict_keys(['signal__nominal', 'ttbar_semilep__nominal', 'ttbar_had__nominal', 'ttbar_lep__nominal', 'wjets__nominal', 'data__nominal'])\n",
      "Hist(\n",
      "  Regular(50, 0, 3000, name='observable', label='$m_{t\\\\bar{t}}$ [GeV]'),\n",
      "  StrCategory([], growth=True, name='process', label='Process'),\n",
      "  StrCategory([], growth=True, name='variation', label='Systematic variation'),\n",
      "  storage=Weight()) # Sum: WeightedSum(value=0, variance=0)\n"
     ]
    }
   ],
   "source": [
    "print(out.keys())\n",
    "print(out[\"data__nominal\"][\"hist_dict\"][\"Zprime_channel\"]) # nominal histogram missing"
   ]
  },
  {
   "cell_type": "code",
   "execution_count": null,
   "metadata": {},
   "outputs": [],
   "source": []
  }
 ],
 "metadata": {
  "kernelspec": {
   "display_name": "zprime_diff_coffea",
   "language": "python",
   "name": "python3"
  },
  "language_info": {
   "codemirror_mode": {
    "name": "ipython",
    "version": 3
   },
   "file_extension": ".py",
   "mimetype": "text/x-python",
   "name": "python",
   "nbconvert_exporter": "python",
   "pygments_lexer": "ipython3",
   "version": "3.11.11"
  }
 },
 "nbformat": 4,
 "nbformat_minor": 2
}
